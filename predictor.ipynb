{
 "cells": [
  {
   "cell_type": "code",
   "execution_count": 31,
   "metadata": {},
   "outputs": [],
   "source": [
    "import pandas as pd\n",
    "import numpy as np\n",
    "import joblib\n",
    "def predictRuns(x):\n",
    "    try:\n",
    "        with open('cantdobetter.joblib','rb') as f:\n",
    "            regressor =joblib.load(f)\n",
    "        with open('venue.joblib','rb') as f:\n",
    "            venue =joblib.load(f)\n",
    "        with open('team.joblib','rb') as f:\n",
    "            team =joblib.load(f)\n",
    "        test=pd.read_csv(x)\n",
    "        test[\"venue\"]=venue.transform(test[\"venue\"])\n",
    "        test[\"batting_team\"]=team.transform(test[\"batting_team\"])\n",
    "        test[\"bowling_team\"]=team.transform(test[\"bowling_team\"])\n",
    "        test[\"date\"]=2021\n",
    "        test=test[[\"venue\",\"innings\",\"date\",\"batting_team\",\"bowling_team\"]]\n",
    "        testt=test.to_numpy()\n",
    "        predicted=regressor.predict(testt)\n",
    "            \n",
    "    except:\n",
    "        predicted=45\n",
    "    \n",
    "    return predicted[0]\n"
   ]
  },
  {
   "cell_type": "code",
   "execution_count": 27,
   "metadata": {},
   "outputs": [],
   "source": [
    "try:\n",
    "    with open('cantdobetter.joblib','rb') as f:\n",
    "        regressor =joblib.load(f)\n",
    "    with open('venue.joblib','rb') as f:\n",
    "        venue =joblib.load(f)\n",
    "    with open('team.joblib','rb') as f:\n",
    "        team =joblib.load(f)\n",
    "    test=pd.read_csv(\"input_test_data.csv\")\n",
    "    test[\"venue\"]=venue.transform(test[\"venue\"])\n",
    "    test[\"batting_team\"]=team.transform(test[\"batting_team\"])\n",
    "    test[\"bowling_team\"]=team.transform(test[\"bowling_team\"])\n",
    "    test[\"date\"]=2021\n",
    "    test=test[[\"venue\",\"innings\",\"date\",\"batting_team\",\"bowling_team\"]]\n",
    "    testt=test.to_numpy()\n",
    "    predicted=regressor.predict(testt)\n",
    "        \n",
    "except:\n",
    "    prected=45\n"
   ]
  },
  {
   "cell_type": "code",
   "execution_count": 32,
   "metadata": {},
   "outputs": [
    {
     "data": {
      "text/plain": [
       "50.51294397635604"
      ]
     },
     "execution_count": 32,
     "metadata": {},
     "output_type": "execute_result"
    }
   ],
   "source": [
    "predictRuns(2)"
   ]
  },
  {
   "cell_type": "code",
   "execution_count": 28,
   "metadata": {},
   "outputs": [
    {
     "data": {
      "text/plain": [
       "50.51294397635604"
      ]
     },
     "execution_count": 28,
     "metadata": {},
     "output_type": "execute_result"
    }
   ],
   "source": [
    "predicted[0]"
   ]
  },
  {
   "cell_type": "code",
   "execution_count": null,
   "metadata": {},
   "outputs": [],
   "source": []
  }
 ],
 "metadata": {
  "kernelspec": {
   "display_name": "Python 3",
   "language": "python",
   "name": "python3"
  },
  "language_info": {
   "codemirror_mode": {
    "name": "ipython",
    "version": 3
   },
   "file_extension": ".py",
   "mimetype": "text/x-python",
   "name": "python",
   "nbconvert_exporter": "python",
   "pygments_lexer": "ipython3",
   "version": "3.8.3"
  }
 },
 "nbformat": 4,
 "nbformat_minor": 4
}
